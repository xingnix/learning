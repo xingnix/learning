{
 "cells": [
  {
   "cell_type": "markdown",
   "id": "outside-bracelet",
   "metadata": {
    "slideshow": {
     "slide_type": "slide"
    }
   },
   "source": [
    "# Monty Hall Dilemma"
   ]
  },
  {
   "cell_type": "markdown",
   "id": "suburban-forum",
   "metadata": {
    "slideshow": {
     "slide_type": "slide"
    }
   },
   "source": [
    "**Cars and goats: the Monty Hall dilemma**\n",
    "\n",
    "On Sunday September 9, 1990, the following question appeared in the \"Ask\n",
    "Marilyn\" column in Parade, a Sunday supplement to many newspapers across\n",
    "the United States:\n",
    "\n",
    "-   Suppose you're on a game show, and you're given the choice of three\n",
    "    doors;\n",
    "\n",
    "-   behind one door is a car; behind the others, goats.\n",
    "\n",
    "-   You pick a door, say No. 1, and the host, who knows what's behind\n",
    "    the doors, opens another door, say No. 3, which has a goat.\n",
    "\n",
    "-   He then says to you, \"Do you want to pick door No. 2?\"\n",
    "\n",
    "-   Is it to your advantage to switch your choice?---Craig F. Whitaker,\n",
    "    Columbia, Md.\n",
    "                               <https://www.boards.ie/b/thread/2056147144>"
   ]
  },
  {
   "cell_type": "markdown",
   "id": "official-mining",
   "metadata": {
    "slideshow": {
     "slide_type": "slide"
    }
   },
   "source": [
    "\n",
    "Inital guess, Suppose picking No.1 door: \n",
    "\n",
    "\\begin{align}\n",
    "  P ( {car}_{1} | {pick}_{1} ) & = & \\frac{1}{3}\\\\\n",
    "  P ( {car}_{2} | {pick}_{1} ) & = & \\frac{1}{3}\\\\\n",
    "  P ( {car}_{3} | {pick}_{1} ) & = & \\frac{1}{3}\n",
    "\\end{align}\n"
   ]
  },
  {
   "cell_type": "markdown",
   "id": "aggregate-membrane",
   "metadata": {
    "slideshow": {
     "slide_type": "slide"
    }
   },
   "source": [
    "Open a door with a goat: $$\\begin{aligned}\n",
    "  P ( {{open}}_{2} | {{car}}_{1} , {{pick}}_{1} ) & = & \\frac{1}{2}\\\\\n",
    "  P ( {{open}}_{3} | {{car}}_{1} , {{pick}}_{1} ) & = & \\frac{1}{2}\\\\\n",
    "  P ( {{open}}_{2} | {{car}}_{2} , {{pick}}_{1} ) & = & 0\\\\\n",
    "  P ( {{open}}_{3} | {{car}}_{2} , {{pick}}_{1} ) & = & 1\\\\\n",
    "  P ( {{open}}_{2} | {{car}}_{3} , {{pick}}_{1} ) & = & 1\\\\\n",
    "  P ( {{open}}_{3} | {{car}}_{3} , {{pick}}_{1} ) & = & 0\\end{aligned}$$"
   ]
  },
  {
   "cell_type": "markdown",
   "id": "differential-visitor",
   "metadata": {
    "slideshow": {
     "slide_type": "slide"
    }
   },
   "source": [
    "Posterior probability: $$\\begin{align*}\n",
    "  P ( {{car}}_{1} | {{pick}}_{1} , {{open}}_{2} ) & =  \\frac{P (\n",
    "  {{open}}_{2} | {{car}}_{1} , {{pick}}_{1} ) P ( {{car}}_{1} |\n",
    "  {{pick}}_{1} )}{\\sum_{i=1}^{3} P ( {{open}}_{2} | {{car}}_{i} ,\n",
    "  {{pick}}_{1} ) P ( {{car}}_{i} | {{pick}}_{1} )}\\\\\n",
    "  & =  \\frac{\\frac{1}{2} \\cdot\\frac{1}{3}}{\\frac{1}{2} \\cdot\n",
    "  \\frac{1}{3} +0 \\cdot\\frac{1}{3} +1 \\cdot\\frac{1}{3}}\\\\\n",
    "  & =  \\frac{1}{3}\\\\\n",
    "  P ( {{car}}_{1} | {{pick}}_{1} , {{open}}_{3} ) & =  \\frac{P (\n",
    "  {{open}}_{3} | {{car}}_{1} , {{pick}}_{1} ) P ( {{car}}_{1} |\n",
    "  {{pick}}_{1} )}{\\sum_{i=1}^{3} P ( {{open}}_{3} | {{car}}_{i} ,\n",
    "  {{pick}}_{1} ) P ( {{car}}_{i} | {{pick}}_{1} )}\\\\\n",
    "  & =  \\frac{\\frac{1}{2} \\cdot\\frac{1}{3}}{\\frac{1}{2} \\cdot\n",
    "  \\frac{1}{3} +1 \\cdot\\frac{1}{3} +0 \\cdot\\frac{1}{3}}\\\\\n",
    "  & =  \\frac{1}{3}\\\\\n",
    "  P ( {{car}}_{2} | {{pick}}_{1} , {{open}}_{2} ) & =  \\frac{P (\n",
    "  {{open}}_{2} | {{car}}_{2} , {{pick}}_{1} ) P ( {{car}}_{2} |\n",
    "  {{pick}}_{1} )}{\\sum_{i=1}^{3} P ( {{open}}_{2} | {{car}}_{i} ,\n",
    "  {{pick}}_{1} ) P ( {{car}}_{i} | {{pick}}_{1} )}\\\\\n",
    "  & =  \\frac{0 \\cdot\\frac{1}{3}}{\\frac{1}{2} \\cdot\\frac{1}{3} +0\n",
    "  \\cdot\\frac{1}{3} +1 \\cdot\\frac{1}{3}}\\\\\n",
    "  & =  0\\\\\n",
    "  P ( {{car}}_{3} | {{pick}}_{1} , {{open}}_{2} ) & =  \\frac{P (\n",
    "  {{open}}_{2} | {{car}}_{3} , {{pick}}_{1} ) P ( {{car}}_{3} |\n",
    "  {{pick}}_{1} )}{\\sum_{i=1}^{3} P ( {{open}}_{2} | {{car}}_{i} ,\n",
    "  {{pick}}_{1} ) P ( {{car}}_{i} | {{pick}}_{1} )}\\\\\n",
    "  & =  \\frac{1 \\cdot\\frac{1}{3}}{\\frac{1}{2} \\cdot\\frac{1}{3} +0\n",
    "  \\cdot\\frac{1}{3} +1 \\cdot\\frac{1}{3}}\\\\\n",
    "  & =  \\frac{2}{3}\\\\\n",
    "  P ( {{car}}_{3} | {{pick}}_{1} , {{open}}_{3} ) & =  \\frac{P (\n",
    "  {{open}}_{3} | {{car}}_{3} , {{pick}}_{1} ) P ( {{car}}_{3} |\n",
    "  {{pick}}_{1} )}{\\sum_{i=1}^{3} P ( {{open}}_{3} | {{car}}_{i} ,\n",
    "  {{pick}}_{1} ) P ( {{car}}_{i} | {{pick}}_{1} )}\\\\\n",
    "  & =  \\frac{0 \\cdot\\frac{1}{3}}{\\frac{1}{2} \\cdot\\frac{1}{3} +1\n",
    "  \\cdot\\frac{1}{3} +0 \\cdot\\frac{1}{3}}\\\\\n",
    "  & =  0\\\\\n",
    "  P ( {{car}}_{2} | {{pick}}_{1} , {{open}}_{3} ) & =  \\frac{P (\n",
    "  {{open}}_{3} | {{car}}_{2} , {{pick}}_{1} ) P ( {{car}}_{2} |\n",
    "  {{pick}}_{1} )}{\\sum_{i=1}^{3} P ( {{open}}_{3} | {{car}}_{i} ,\n",
    "  {{pick}}_{1} ) P ( {{car}}_{i} | {{pick}}_{1} )}\\\\\n",
    "  & =  \\frac{1 \\cdot\\frac{1}{3}}{\\frac{1}{2} \\cdot\\frac{1}{3} +1\n",
    "  \\cdot\\frac{1}{3} +0 \\cdot\\frac{1}{3}}\\\\\n",
    "  & =  \\frac{2}{3}\\end{align*}$$"
   ]
  },
  {
   "cell_type": "markdown",
   "id": "centered-complex",
   "metadata": {
    "slideshow": {
     "slide_type": "slide"
    }
   },
   "source": [
    "  Then it shows that:\n",
    "\n",
    "   Switch to another closed door can increase the probability of winning\n",
    "from $\\frac{1}{3}$ to $\\frac{2}{3}$ .\n"
   ]
  }
 ],
 "metadata": {
  "celltoolbar": "Slideshow",
  "jupytext": {
   "formats": "ipynb,md"
  },
  "kernelspec": {
   "display_name": "Python 3",
   "language": "python",
   "name": "python3"
  },
  "language_info": {
   "codemirror_mode": {
    "name": "ipython",
    "version": 3
   },
   "file_extension": ".py",
   "mimetype": "text/x-python",
   "name": "python",
   "nbconvert_exporter": "python",
   "pygments_lexer": "ipython3",
   "version": "3.8.3"
  },
  "rise": {
   "enable_chalkboard": true,
   "scroll": true
  }
 },
 "nbformat": 4,
 "nbformat_minor": 5
}
