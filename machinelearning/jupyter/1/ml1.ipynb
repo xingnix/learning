{
 "cells": [
  {
   "cell_type": "markdown",
   "id": "empty-racing",
   "metadata": {
    "slideshow": {
     "slide_type": "slide"
    }
   },
   "source": [
    "# 课程简介"
   ]
  },
  {
   "cell_type": "markdown",
   "id": "rental-recall",
   "metadata": {
    "slideshow": {
     "slide_type": "subslide"
    }
   },
   "source": [
    "## 机器学习\n",
    "\n",
    "- 定义\n",
    "\n",
    "    对于某类任务 $T$ 和性能度量 $P$\n",
    "    如果一个计算机程序在T上以P衡量的性能随着经验E而自我完善，那么我们称这个计算机程序在从经验E学习。\n"
   ]
  },
  {
   "cell_type": "markdown",
   "id": "second-speaking",
   "metadata": {
    "lines_to_next_cell": 0,
    "slideshow": {
     "slide_type": "subslide"
    }
   },
   "source": [
    "## 课程主要内容\n",
    "\n",
    "-   概念学习\n",
    "-   决策树学习\n",
    "-   人工神经网络\n",
    "-   评估假设\n",
    "-   贝叶斯学习\n",
    "-   计算学习理论\n",
    "-   基于实例的学习\n",
    "-   遗传算法\n",
    "-   增强学习\n"
   ]
  },
  {
   "cell_type": "markdown",
   "id": "geological-logistics",
   "metadata": {
    "lines_to_next_cell": 0,
    "slideshow": {
     "slide_type": "subslide"
    }
   },
   "source": [
    "## 与其它课程关系\n",
    "\n",
    "-   概率与数理统计\n",
    "-   人工智能\n",
    "-   模式识别\n",
    "-   数据挖掘\n",
    "-   最优化理论与方法\n",
    "-   控制理论\n",
    "-   生物学\n",
    "-   心理学\n",
    "-   哲学\n"
   ]
  },
  {
   "cell_type": "markdown",
   "id": "entire-prediction",
   "metadata": {
    "lines_to_next_cell": 0,
    "slideshow": {
     "slide_type": "slide"
    }
   },
   "source": [
    "# 机器学习示例\n"
   ]
  },
  {
   "cell_type": "markdown",
   "id": "basic-buffalo",
   "metadata": {
    "lines_to_next_cell": 0,
    "slideshow": {
     "slide_type": "subslide"
    }
   },
   "source": [
    "## 机器学习示例\n",
    "\n",
    "-   无人驾驶汽车\n",
    "-   手写识别\n",
    "-   人脸识别\n",
    "-   垃圾邮件过滤\n"
   ]
  },
  {
   "cell_type": "markdown",
   "id": "behind-plane",
   "metadata": {
    "lines_to_next_cell": 0,
    "slideshow": {
     "slide_type": "subslide"
    }
   },
   "source": [
    "## Typical Datamining Task\n",
    "\n",
    "![](./image/csec.png)\n",
    "\n",
    "-   Given:\n",
    "    -   9714 patient records, each describing a pregnancy and birth\n",
    "    -   Each patient record contains 215 features\n",
    "-   Learn to predict:\n",
    "    -   item Classes of future patients at high risk for Emergency\n",
    "        Cesarean Section\n"
   ]
  },
  {
   "cell_type": "markdown",
   "id": "alien-communication",
   "metadata": {
    "lines_to_next_cell": 0,
    "slideshow": {
     "slide_type": "subslide"
    }
   },
   "source": [
    "## Datamining Result\n",
    "\n",
    "-   Data:\n",
    "\n",
    "![](./image/csec.png)\n",
    "\n",
    "-   One of 18 learned rules:\n",
    "\n",
    "    ``` example\n",
    "    If   No previous vaginal delivery, and\n",
    "         Abnormal 2nd Trimester Ultrasound, and\n",
    "         Malpresentation at admission\n",
    "    Then Probability of Emergency C-Section is 0.6\n",
    "\n",
    "     Over training data: 26/41 = .63, \n",
    "     Over test data: 12/20 = .60\n",
    "    ```\n"
   ]
  },
  {
   "cell_type": "markdown",
   "id": "nonprofit-ukraine",
   "metadata": {
    "lines_to_next_cell": 0,
    "slideshow": {
     "slide_type": "subslide"
    }
   },
   "source": [
    "## Credit Risk Analysis\n",
    "\n",
    "Data:\n",
    "\n",
    "![](./image/credit-outcomes.png)\n",
    "\n",
    "Rules learned from synthesized data:\n",
    "\n",
    "``` example\n",
    "If   Other-Delinquent-Accounts > 2, and\n",
    "     Number-Delinquent-Billing-Cycles > 1\n",
    "Then Profitable-Customer? = No\n",
    "     [Deny Credit Card application]\n",
    "\n",
    "If   Other-Delinquent-Accounts = 0, and\n",
    "     (Income > $30k)  OR  (Years-of-Credit > 3)\n",
    "Then Profitable-Customer? = Yes\n",
    "     [Accept Credit Card application]\n",
    "```\n"
   ]
  },
  {
   "cell_type": "markdown",
   "id": "sustainable-drawing",
   "metadata": {
    "lines_to_next_cell": 0,
    "slideshow": {
     "slide_type": "subslide"
    }
   },
   "source": [
    "## Customer purchase behavior:\n",
    "\n",
    "![](./image/customer-outcomes.png)\n"
   ]
  },
  {
   "cell_type": "markdown",
   "id": "defensive-palestine",
   "metadata": {
    "lines_to_next_cell": 0,
    "slideshow": {
     "slide_type": "subslide"
    }
   },
   "source": [
    "## Customer retention:\n",
    "\n",
    "![](./image/bank-customer.png)\n"
   ]
  },
  {
   "cell_type": "markdown",
   "id": "duplicate-concert",
   "metadata": {
    "lines_to_next_cell": 0,
    "slideshow": {
     "slide_type": "subslide"
    }
   },
   "source": [
    "## Process optimization:\n",
    "\n",
    "![](./image/process-outcomes.png)\n"
   ]
  },
  {
   "cell_type": "markdown",
   "id": "adjustable-hunger",
   "metadata": {
    "lines_to_next_cell": 0,
    "slideshow": {
     "slide_type": "subslide"
    }
   },
   "source": [
    "## ALVINN \\[Pomerleau\\] drives 70 mph on highways\n",
    "\n",
    "![image](./image/nl5-interior-front-color.png)\n",
    "\n",
    "|  . |  . |\n",
    "|----|----|\n",
    "![image](./image/alvinn1.png)|![image](./image/alvinn2.png)|"
   ]
  },
  {
   "cell_type": "markdown",
   "id": "fantastic-report",
   "metadata": {
    "lines_to_next_cell": 0,
    "slideshow": {
     "slide_type": "subslide"
    }
   },
   "source": [
    "## Software that Customizes to User\n",
    "\n",
    "`\\center`{=latex}\n",
    "\n",
    "![](./image/wisewire.png)\n",
    "\n",
    "\\\\centerline{<http://www.wisewire.com>}\n"
   ]
  },
  {
   "cell_type": "markdown",
   "id": "promotional-brisbane",
   "metadata": {
    "lines_to_next_cell": 0,
    "slideshow": {
     "slide_type": "slide"
    }
   },
   "source": [
    "# 学习问题的标准描述\n"
   ]
  },
  {
   "cell_type": "markdown",
   "id": "accepted-packing",
   "metadata": {
    "lines_to_next_cell": 0,
    "slideshow": {
     "slide_type": "subslide"
    }
   },
   "source": [
    "## 定义\n",
    "\n",
    "对于某类任务 $T$ 和性能度量 $P$ ，如果一个计算机程序在 $T$ 上以 $P$\n",
    "衡量的性能随着经验 $E$ 而自我完善，那么我们称这个计算机程序在从经验 $E$\n",
    "学习。\n",
    "\n",
    "-   例如，\n",
    "    对于学习下西洋跳棋的计算机程序，它可以通过和自己下棋获取经验，它担负的任务是参与西洋跳棋对弈，它的性能用它赢棋的能力来衡量。\n",
    "-   通常，为了很好地定义一个学习问题，我们必须明确这样三个特征：\n",
    "    -   任务的种类；\n",
    "    -   衡量任务提高的标准；\n",
    "    -   经验的来源。\n"
   ]
  },
  {
   "cell_type": "markdown",
   "id": "freelance-selling",
   "metadata": {
    "lines_to_next_cell": 0,
    "slideshow": {
     "slide_type": "subslide"
    }
   },
   "source": [
    "## 西洋跳棋学习问题：\n",
    "\n",
    "-   任务T：下西洋跳棋\n",
    "-   性能标准P：比赛中击败对手的百分比\n",
    "-   训练经验E：和自己进行对弈\n"
   ]
  },
  {
   "cell_type": "markdown",
   "id": "lightweight-perfume",
   "metadata": {
    "lines_to_next_cell": 0,
    "slideshow": {
     "slide_type": "subslide"
    }
   },
   "source": [
    "## 手写识别学习问题\n",
    "\n",
    "-   任务T：识别和分类图像中的手写文字\n",
    "-   性能标准P：分类的正确率\n",
    "-   训练经验E：已知分类的手写文字数据库\n"
   ]
  },
  {
   "cell_type": "markdown",
   "id": "geological-jewelry",
   "metadata": {
    "lines_to_next_cell": 0,
    "slideshow": {
     "slide_type": "subslide"
    }
   },
   "source": [
    "## 机器人驾驶学习问题\n",
    "\n",
    "-   任务T：通过视觉传感器在四车道高速公路上驾驶\n",
    "-   性能标准P：平均无差错行驶里程（差错由人类的监督裁定）\n",
    "-   训练经验E：注视人类驾驶时录制的一系列图像和驾驶指令\n"
   ]
  },
  {
   "cell_type": "markdown",
   "id": "primary-nursery",
   "metadata": {
    "lines_to_next_cell": 0,
    "slideshow": {
     "slide_type": "slide"
    }
   },
   "source": [
    "# 设计一个学习系统\n"
   ]
  },
  {
   "cell_type": "markdown",
   "id": "linear-installation",
   "metadata": {
    "lines_to_next_cell": 0,
    "slideshow": {
     "slide_type": "subslide"
    }
   },
   "source": [
    "## 西洋跳棋学习问题：\n",
    "\n",
    "-   任务T：下西洋跳棋\n",
    "-   性能标准P：世界锦标赛上击败对手的百分比\n",
    "-   训练经验E：和自己进行对弈\n",
    "\n",
    "为了完成这个学习系统的设计，现在需要选择：\n",
    "\n",
    "-   要学习的经验\n",
    "-   要学习的知识的确切类型\n",
    "-   对于这个目标知识的表示\n",
    "-   一种学习机制\n"
   ]
  },
  {
   "cell_type": "markdown",
   "id": "adopted-composition",
   "metadata": {
    "lines_to_next_cell": 0,
    "slideshow": {
     "slide_type": "subslide"
    }
   },
   "source": [
    "## 选取训练经验的类型\n",
    "\n",
    "-   直接或间接\n",
    "    -   直接的（direct）训练样例，即各种棋盘状态和相应的正确走子中学习。\n",
    "    -   间接（indirect）的信息，包含很多过去的对弈序列和最终结局。(关于较早走子的正确性必须从对弈最终的输赢来推断。)\n",
    "-   有无施教者\n",
    "    -   学习器可能依赖施教者选取棋盘状态，和提供每一次的正确移动。或者，学习器可能自己提出它认为特别困惑的棋局并向施教者询问正确的走子。\n",
    "    -   或者，学习器可以完全控制棋局和（间接的）训练分类，就像没有施教者时它和自己对弈进行学习一样。\n",
    "-   训练样例的分布是否代表实例分布\n"
   ]
  },
  {
   "cell_type": "markdown",
   "id": "large-century",
   "metadata": {
    "lines_to_next_cell": 0,
    "slideshow": {
     "slide_type": "subslide"
    }
   },
   "source": [
    "## 选择目标函数\n",
    "\n",
    "-   目标函数1,\n",
    "    对任何给定的棋局(合法棋局集合中的棋盘状态)能选出最好的走法(从合法走子集合中产生某个走子作为输出)\n",
    "    $$ChooseMove: Board \\rightarrow Move$$\n",
    "-   目标函数2(评估函数),它为任何给定棋局赋予一个数字的评分\n",
    "    $$V: Board \\rightarrow \\Re$$\n"
   ]
  },
  {
   "cell_type": "markdown",
   "id": "massive-sharp",
   "metadata": {
    "lines_to_next_cell": 0,
    "slideshow": {
     "slide_type": "subslide"
    }
   },
   "source": [
    "## 定义目标函数（ $V$ ）\n",
    "\n",
    "-   例：\n",
    "    -   如果b是一最终的胜局，那么V(b)=100\n",
    "    -   如果b是一最终的负局，那么V(b)=-100\n",
    "    -   如果b是一最终的和局，那么V(b)=0\n",
    "    -   如果b不是最终棋局，那么V(b)=V(b\\')，其中b\\'是从b开始双方都采取最优对弈后可达到的终局。\n",
    "-   注：正确，但不可操作\n"
   ]
  },
  {
   "cell_type": "markdown",
   "id": "express-adobe",
   "metadata": {
    "lines_to_next_cell": 0,
    "slideshow": {
     "slide_type": "subslide"
    }
   },
   "source": [
    "## 选择目标函数表示\n",
    "\n",
    "-   一组规则\n",
    "-   神经网络\n",
    "-   棋盘状态的多项式函数\n",
    "-   ...\n"
   ]
  },
  {
   "cell_type": "markdown",
   "id": "eleven-female",
   "metadata": {
    "lines_to_next_cell": 0,
    "slideshow": {
     "slide_type": "subslide"
    }
   },
   "source": [
    "## 目标函数表示\n",
    "\n",
    "$$ w_{0} + w_{1}\\cdot bp(b) + w_{2}\\cdot rp(b) + w_{3}\\cdot bk(b) + w_{4}\\cdot rk(b) + w_{5}\\cdot bt(b) + w_{6}\\cdot rt(b) $$\n",
    "\n",
    "-   $bp(b)$: number of black pieces on board $b$\n",
    "-   $rp(b)$: number of red pieces on $b$\n",
    "-   $bk(b)$: number of black kings on $b$\n",
    "-   $rk(b)$: number of red kings on $b$\n",
    "-   $bt(b)$: number of red pieces threatened by black (i.e., which can\n",
    "    be taken on black\\'s next turn)\n",
    "-   $rt(b)$: number of black pieces threatened by red\n"
   ]
  },
  {
   "cell_type": "markdown",
   "id": "auburn-romance",
   "metadata": {
    "lines_to_next_cell": 0,
    "slideshow": {
     "slide_type": "subslide"
    }
   },
   "source": [
    "## 估计训练值\n",
    "\n",
    "-   $V(b)$: 真实目标函数\n",
    "\n",
    "-   $\\hat{V}(b)$ : 学习到的函数\n",
    "\n",
    "-   $V_{train}(b)$: 训练值\n",
    "\n",
    "-   学习器可以得到的训练信息仅是对弈最后的胜负。\n",
    "\n",
    "-   训练值估计法则 $$V_{train}(b) \\leftarrow \\hat{V}(Successor(b))$$\n",
    "    $Successor(b)$ 表示 一个回合后的棋盘状态。\n"
   ]
  },
  {
   "cell_type": "markdown",
   "id": "brazilian-junction",
   "metadata": {
    "lines_to_next_cell": 0,
    "slideshow": {
     "slide_type": "subslide"
    }
   },
   "source": [
    "## 权值调整\n",
    "\n",
    "LMS 权值更新法则(LMS Weight update rule)\n",
    "\n",
    "-   Do repeatedly:\n",
    "    -   随机选取一个训练样例 $b$\n",
    "    -   使用当前的权值计算 $error(b)$:\n",
    "        $$error(b) = V_{train}(b) - \\hat{V}(b)$$\n",
    "    -   对每一个权值wi进行如下更新\n",
    "        $$w_{i} \\leftarrow w_{i} + c \\cdot f_{i} \\cdot error(b) $$ $c$\n",
    "        是一个小常数, 如 0.1, 用来调整权值更新的幅度\n"
   ]
  },
  {
   "cell_type": "markdown",
   "id": "brazilian-median",
   "metadata": {
    "lines_to_next_cell": 0,
    "slideshow": {
     "slide_type": "subslide"
    }
   },
   "source": [
    "## 最终设计\n",
    "\n",
    "\n",
    "![](./image/intro-final-design.png)\n"
   ]
  },
  {
   "cell_type": "markdown",
   "id": "informative-destination",
   "metadata": {
    "lines_to_next_cell": 0,
    "slideshow": {
     "slide_type": "subslide"
    }
   },
   "source": [
    "## 最终设计\n",
    "\n",
    "-   执行系统（Performance\n",
    "    system），这个模块是用学会的目标函数来解决给定的任务，在此就是对弈西洋跳棋。\n",
    "    \n",
    "它把新问题（新一盘棋）的实例作为输入，产生一组解答路线（对弈历史记录）作为输出。在这里，执行系统采用的选择下一步走法的策略是由学到的评估函数来决定的。所以我们期待它的性能会随着评估函数的日益准确而提高。\n",
    "-   鉴定器（Critic），它以对弈的路线或历史记录作为输入，输出目标函数的一系列训练样例。\n",
    "\n",
    "如图所示，每一个训练样例对应路线中的某个棋盘状态和目标函数给这个样例的评估值\n",
    "$V_{train}$ 。\n",
    "\n",
    "-   泛化器（Generalizer），它以训练样例作为输入，输出一个假设，作为它对目标函数的估计。\n",
    "\n",
    "它从特定的训练样例中泛化，猜测一个一般函数，使其能够覆盖这些样例以及样例之外的情形。\n",
    "\n",
    "-   实验生成器（Experiment\n",
    "    Generator），它以当前的假设（当前学到的函数）作为输入，输出一个新的问题（例如，最初的棋局）供执行系统去探索。\n",
    "\n",
    "它的角色是挑选新的练习问题，以使整个系统的学习速率最大化。\n"
   ]
  },
  {
   "cell_type": "markdown",
   "id": "future-macedonia",
   "metadata": {
    "lines_to_next_cell": 0,
    "slideshow": {
     "slide_type": "subslide"
    }
   },
   "source": [
    "## 设计过程\n",
    "\n",
    "\n",
    "![](./image/intro-f1.png)\n"
   ]
  },
  {
   "cell_type": "markdown",
   "id": "upset-worry",
   "metadata": {
    "lines_to_next_cell": 0,
    "slideshow": {
     "slide_type": "slide"
    }
   },
   "source": [
    "# 机器学习的问题\n",
    "\n",
    "-   从特定的训练数据学习一般的目标函数存在什么样的算法？\n",
    "    -   如果提供了充足的训练数据，什么样的条件下会使特定的算法收敛到期望的函数？\n",
    "    -   哪个算法对哪些问题和表示的性能最好。\n",
    "-   多少训练数据是充足的？\n",
    "    -   怎样找到学习到的假设的置信度与训练数据的数量及提供给学习器的假设空间特性之间的一般关系？\n",
    "-   学习器拥有的先验知识是怎样引导从样例进行泛化的过程的？\n",
    "    -   当先验知识仅仅是近似正确时，它们会有帮助吗？\n",
    "-   对于选择有用的后续训练经验，什么样的策略最好？\n",
    "    -   这个策略的选择会怎样影响学习问题的复杂性？\n",
    "-   怎样把学习任务简化为一个或多个函数逼近问题？\n",
    "    -   换一种方式，系统该试图学习哪些函数？\n",
    "    -   这个过程本身能自动化吗？\n",
    "-   学习器怎样自动地改变表示法来提高表示和学习目标函数的能力？\n"
   ]
  },
  {
   "cell_type": "markdown",
   "id": "automatic-western",
   "metadata": {
    "lines_to_next_cell": 0,
    "slideshow": {
     "slide_type": "slide"
    }
   },
   "source": [
    "# 机器学习相关资源\n"
   ]
  },
  {
   "cell_type": "markdown",
   "id": "contrary-replica",
   "metadata": {
    "lines_to_next_cell": 0,
    "slideshow": {
     "slide_type": "subslide"
    }
   },
   "source": [
    "## 课程\n",
    "\n",
    "-   <https://www.coursera.org/learn/machine-learning> Machine Learning\n",
    "    Stanford University (coursera)\n",
    "-   <http://open.163.com/special/opencourse/machinelearning.html>\n",
    "    斯坦福大学公开课 ：机器学习课程（网易公开课）\n",
    "-   <http://open.163.com/special/opencourse/learningfromdata.html>\n",
    "    加州理工学院公开课：机器学习与数据挖掘\n"
   ]
  },
  {
   "cell_type": "markdown",
   "id": "athletic-disabled",
   "metadata": {
    "lines_to_next_cell": 0,
    "slideshow": {
     "slide_type": "subslide"
    }
   },
   "source": [
    "## 资料\n",
    "\n",
    "-   <https://www.kaggle.com/> 数据科学竞赛平台、社区\n",
    "-   <http://philschatz.com/biology-book/> a freedom book about biology\n",
    "-   [[http://www.cs.cmu.edu/\\\\textasciitilde](http://www.cs.cmu.edu/\\textasciitilde)\n",
    "    tom/mlbook-chapter-slides.html](http://www.cs.cmu.edu/~tom/mlbook-chapter-slides.html)\n",
    "    Machine Learning slide (LaTeX source )\n",
    "-   <http://www.cs.cmu.edu/afs/cs.cmu.edu/project/theo-20/www/mlbook/latex-support.html>\n",
    "    Machine Learning slide (LaTeX source )\n",
    "-   <https://learnxinyminutes.com> \\\\ 各种程序设计语言快速入门\n",
    "-   <http://cos.name/> 统计技术社区\n",
    "-   <https://databricks.com/> Spark在线学习\n"
   ]
  },
  {
   "cell_type": "markdown",
   "id": "attractive-anniversary",
   "metadata": {
    "lines_to_next_cell": 0,
    "slideshow": {
     "slide_type": "slide"
    }
   },
   "source": [
    "# 工具\n"
   ]
  },
  {
   "cell_type": "markdown",
   "id": "sixth-claim",
   "metadata": {
    "lines_to_next_cell": 0,
    "slideshow": {
     "slide_type": "subslide"
    }
   },
   "source": [
    "## C/C++\n",
    "\n",
    "-   <http://dlib.net>\n",
    "-   <http://mlpack.org/>\n",
    "-   <http://opencv.org/>\n",
    "-   <http://caffe.berkeleyvision.org>\n",
    "-   <http://mxnet.io/>\n"
   ]
  },
  {
   "cell_type": "markdown",
   "id": "criminal-simulation",
   "metadata": {
    "lines_to_next_cell": 0,
    "slideshow": {
     "slide_type": "subslide"
    }
   },
   "source": [
    "## Lua\n",
    "\n",
    "-   <http://torch.ch>\n",
    "-   <https://github.com/torchnet/>\n"
   ]
  },
  {
   "cell_type": "markdown",
   "id": "mounted-broadcasting",
   "metadata": {
    "lines_to_next_cell": 0,
    "slideshow": {
     "slide_type": "subslide"
    }
   },
   "source": [
    "## Python\n",
    "\n",
    "-   <https://pytorch.org>\n",
    "-   <http://scikit-learn.org/>\n",
    "-   <https://www.tensorflow.org>\n",
    "-   <http://www.deeplearning.net/software/theano/>\n",
    "-   <https://github.com/NervanaSystems/neon>\n"
   ]
  },
  {
   "cell_type": "markdown",
   "id": "nasty-compound",
   "metadata": {
    "lines_to_next_cell": 0,
    "slideshow": {
     "slide_type": "subslide"
    }
   },
   "source": [
    "## Java\n",
    "\n",
    "-   <http://www.cs.waikato.ac.nz/ml/weka/index.html>\n",
    "-   <http://moa.cms.waikato.ac.nz/>\n",
    "-   <http://spark.apache.org/mllib/>\n",
    "-   <https://mahout.apache.org/>\n",
    "-   <http://www.h2o.ai/>\n",
    "-   <http://deeplearning4j.org/>\n",
    "-   <http://neuroph.sourceforge.net/>\n",
    "-   <http://airbnb.io/aerosolve/>\n"
   ]
  },
  {
   "cell_type": "markdown",
   "id": "unable-insider",
   "metadata": {
    "slideshow": {
     "slide_type": "subslide"
    }
   },
   "source": [
    "## 科学计算\n",
    "\n",
    "-   Rstudio(R)\n",
    "-   Matlab/Octave\n",
    "-   Scilab\n",
    "-   Sage\n",
    "-   Julia\n",
    "-   Spyder(Python)\n",
    "-   RapidMiner <https://rapidminer.com/>\n"
   ]
  }
 ],
 "metadata": {
  "celltoolbar": "Slideshow",
  "jupytext": {
   "formats": "ipynb,md"
  },
  "kernelspec": {
   "display_name": "Python 3",
   "language": "python",
   "name": "python3"
  },
  "language_info": {
   "codemirror_mode": {
    "name": "ipython",
    "version": 3
   },
   "file_extension": ".py",
   "mimetype": "text/x-python",
   "name": "python",
   "nbconvert_exporter": "python",
   "pygments_lexer": "ipython3",
   "version": "3.8.3"
  },
  "rise": {
   "enable_chalkboard": true,
   "scroll": true
  }
 },
 "nbformat": 4,
 "nbformat_minor": 5
}
