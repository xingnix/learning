{
 "cells": [
  {
   "cell_type": "markdown",
   "metadata": {
    "slideshow": {
     "slide_type": "slide"
    }
   },
   "source": [
    "# 误差反传算法"
   ]
  },
  {
   "cell_type": "markdown",
   "metadata": {
    "slideshow": {
     "slide_type": "slide"
    }
   },
   "source": [
    "# 向量描述"
   ]
  },
  {
   "cell_type": "markdown",
   "metadata": {
    "slideshow": {
     "slide_type": "subslide"
    }
   },
   "source": [
    "## $\\Delta E,\\Delta O,\\Delta W$"
   ]
  },
  {
   "cell_type": "markdown",
   "metadata": {
    "slideshow": {
     "slide_type": "subslide"
    }
   },
   "source": [
    "\n",
    "对于第i层网络：\n",
    "\\begin{align*}\n",
    "\\vec O_i &=F_i(W_i\\vec X_i+\\vec b_i)\\\\\n",
    "&=\\begin{bmatrix}\n",
    "f_i(\\vec w_1 \\vec X_i+b_{i,1})  &  f_i(\\vec w_2 \\vec X_i+b_{i,2}) & \\cdots & f_i(\\vec w_n \\vec X_i +b_{i,n})\n",
    "\\end{bmatrix}^T\n",
    "\\end{align*}\n",
    "其中：\n",
    "\n",
    "- $\\vec O_i$ 为第i层网络输出 ，\n",
    "- $\\vec X_i$ 为第i层网络输入，等于第 $i-1$ 层网络输出 $\\vec O_{i-1}$\n",
    "- $\\vec w_j$ 为第i层网络权值矩阵 $W_i$ 的第j行， \n",
    "- $b_{i,j}$ 为向量 $\\vec b_i$ 的第j个元素。\n"
   ]
  },
  {
   "cell_type": "markdown",
   "metadata": {
    "slideshow": {
     "slide_type": "subslide"
    }
   },
   "source": [
    "\n",
    "对于 $W_i$ 的一个微小变化 $\\Delta W_i$ ，得：\n",
    "\\begin{align*}\n",
    "\\Delta \\vec O_i &=\\begin{bmatrix}\n",
    "f'_i(\\vec w_1 \\vec X_i+b_{i,1})\\Delta \\vec w_1 \\vec X_i  &  f'_i(\\vec w_2 \\vec X_i+b_{i,2})\\Delta \\vec w_2 \\vec X_i & \\cdots & f'_i(\\vec w_n \\vec X_i +b_{i,n})\\Delta \\vec w_n \\vec X_i\n",
    "\\end{bmatrix}^T \\\\\n",
    "&=diag[F'_i(W_i\\vec X_i+\\vec b_i)]\\Delta W\\vec X_i \\\\\n",
    "&=diag(F'_i)\\Delta W_i \\vec X_i\n",
    "\\end{align*}\n",
    "\n",
    "\n",
    "其中 $diag(F)$ 表示主对角元素为向量 F的元素的方阵。\n",
    "\n"
   ]
  },
  {
   "cell_type": "markdown",
   "metadata": {
    "slideshow": {
     "slide_type": "subslide"
    }
   },
   "source": [
    "\n",
    "\n",
    "对于N层网络的误差函数：\n",
    "\n",
    "$$ E=(\\vec{Y}-\\vec O_N)^T(\\vec{Y}-\\vec O_N)$$\n",
    "\n",
    "\n",
    "误差函数的增量：\n",
    "\\begin{align*}\n",
    "\\Delta E &=-2(\\vec Y-\\vec O_N)^T\\cdot \\Delta\\vec O_N\\\\\n",
    "&=-2(\\vec Y-\\vec O_N)^T\\cdot diag(F'_N)\\Delta W_N \\vec X_N\\\\\n",
    "\\frac{\\partial E}{\\partial W_N}&=-2 diag(F'_N)\\cdot(\\vec Y-\\vec O_N)\\cdot \\vec X_N^T\n",
    "\\end{align*}"
   ]
  },
  {
   "cell_type": "markdown",
   "metadata": {
    "slideshow": {
     "slide_type": "subslide"
    }
   },
   "source": [
    "## 反向传播"
   ]
  },
  {
   "cell_type": "markdown",
   "metadata": {
    "slideshow": {
     "slide_type": "subslide"
    }
   },
   "source": [
    "根据链式法则：\n",
    "\\begin{align*}\n",
    "\\Delta \\vec O_i&=\\begin{bmatrix}\n",
    "f'_i(\\vec w_1 \\vec X_i+b_{i,1}) \\vec w_1 \\Delta\\vec X_i  &  f'_i(\\vec w_2 \\vec X_i+b_{i,2}) \\vec w_2 \\Delta\\vec X_i & \\cdots & f'_i(\\vec w_n \\vec X_i +b_{i,n}) \\vec w_n \\Delta\\vec X_i\n",
    "\\end{bmatrix}^T \\\\\n",
    "&=diag(F'_i)W_i \\Delta\\vec X_i\\\\\n",
    "\\Delta E &= 2(\\vec O_N-\\vec Y)^T\\cdot diag(F'_N) \\cdot W_N \\cdot \\Delta \\vec X_N\\\\\n",
    "&= 2(\\vec O_N-\\vec Y)^T\\cdot diag(F'_N) \\cdot W_N \\cdot \\Delta \\vec O_{N-1}\\\\\n",
    "&=2(\\vec O_N-\\vec Y)^T\\cdot diag(F'_N) \\cdot W_N \\cdot diag(F'_{N-1})\\cdot \\Delta W_N \\cdot \\vec X_{N-1}\n",
    "\\end{align*}\n",
    "\n"
   ]
  },
  {
   "cell_type": "markdown",
   "metadata": {
    "slideshow": {
     "slide_type": "subslide"
    }
   },
   "source": [
    "对于N层网络可得：\n",
    "\\begin{align*}\n",
    "\\Delta E &= \\vec{\\alpha}^T\\cdot\\Delta W_i\\cdot \\vec{\\beta} \\\\\n",
    "\\frac{\\partial E}{\\partial W_i} &= \\vec{\\alpha}\\cdot\\vec \\beta^T\n",
    "\\end{align*}\n",
    "其中：\n",
    "\\begin{align*}\n",
    "\\vec{\\alpha}^T&=2(\\vec O_N-\\vec Y)^T\\cdot diag(F'_N) \\cdot \\left[\\prod_{n=i+1}^{N} W_n \\cdot diag(F'_{n-1})\\right] \\\\\n",
    "\\vec{\\beta}&=\\vec{X_i}\\qquad (\\text{ inputs of the i'th layer})\n",
    "\\end{align*}\n"
   ]
  },
  {
   "cell_type": "markdown",
   "metadata": {
    "slideshow": {
     "slide_type": "subslide"
    }
   },
   "source": [
    "反向传播：\n",
    "\\begin{align*}\n",
    "\\vec\\delta_N&=[2(\\vec Y_o-\\vec Y_E)^T\\cdot diag(F'_N)]^T \\\\\n",
    "            &= diag(F'_N)\\cdot 2(\\vec Y_o-\\vec Y_E) \\\\\n",
    "\\vec\\delta_n&=  diag(F'_n)\\cdot W_{n+1}^T \\cdot\\vec\\delta_{n+1} \\\\\n",
    "\\Delta W_i &=\\delta_i \\cdot \\vec X_i^T\n",
    "\\end{align*}\n"
   ]
  },
  {
   "cell_type": "markdown",
   "metadata": {
    "slideshow": {
     "slide_type": "subslide"
    }
   },
   "source": [
    "## 偏置向量\n",
    "对偏置向量的更新可考虑增广权植矩阵 $[W|b]$ ,增广输入 $\\begin{bmatrix} \\vec X_o  \\\\ 1\\end{bmatrix}$ 。令 $\\beta=\\begin{bmatrix} \\vec X_o \\\\ 1\\end{bmatrix}$ 即可得到增广权值矩阵的更新公式。\n",
    "\n"
   ]
  },
  {
   "cell_type": "markdown",
   "metadata": {
    "slideshow": {
     "slide_type": "slide"
    }
   },
   "source": [
    "# 递推描述"
   ]
  },
  {
   "cell_type": "markdown",
   "metadata": {
    "slideshow": {
     "slide_type": "subslide"
    }
   },
   "source": [
    "## 符号表示\n",
    "考虑神经元 $q$ ，有：\n",
    "\\begin{align*}\n",
    "q_x &= \\sum_{p \\in \\{p'|p'\\rightarrow q\\}}w_{qp}p_o \\\\\n",
    "q_o &= f(q_x) \\\\\n",
    "\\end{align*}\n",
    "其中：\n",
    "\n",
    "- $q_x$ 表示神经元 $q$ 的输入\n",
    "- $q_o$ 表示神经元 $q$ 的输出\n",
    "- $p_o$ 表示神经元 $p$ 的输出\n",
    "- $f(\\cdot)$ 表示神经元的非线性函数\n",
    "- $w_{qp}$ 表示连接神经元 $q$ 输出端到 $p$ 输入端 的网络权值\n",
    "- $\\{p'|p'\\rightarrow q\\}$ 表示神经元 $p'$ 的集合， $p'$ 的输出端连接到 $q$ 输入端的\n",
    "\n"
   ]
  },
  {
   "cell_type": "markdown",
   "metadata": {
    "slideshow": {
     "slide_type": "subslide"
    }
   },
   "source": [
    "\n",
    "## 输出层神经元 $t$：\n",
    "\\begin{align*}\n",
    "\\frac{\\partial E}{\\partial t_x} &=\\frac{\\partial E}{\\partial t_o} \\frac{\\partial t_o}{\\partial t_x}\\\\\n",
    "&=\\frac{\\partial }{\\partial t_o}[\\frac{1}{2}(t_o-t_y)^2] \\frac{\\partial t_o}{\\partial t_x}\\\\\n",
    "&=(t_o-t_y) \\frac{\\partial t_o}{\\partial t_x}\\\\\n",
    "&=(t_o-t_y) f'(t_x)\\\\\n",
    "\\frac{\\partial E}{\\partial w_{tq}} &=\\frac{\\partial E}{\\partial t_x}\\frac{\\partial t_x}{\\partial w_{tq}}\\\\\n",
    "&=\\frac{\\partial E}{\\partial t_x}q_o\n",
    "\\end{align*}\n",
    "\n",
    "其中：\n",
    "\n",
    "- $t_y$ 为输出神经元 $t$ 的期望输出\n",
    "- $f'(t_x)=\\left.\\frac{df(t_x)}{dt_x}\\right|_{t_x}$\n",
    "- $q$ 为输出端连接到 $t$ 的输入端的某个神经元\n",
    "\n",
    "\n"
   ]
  },
  {
   "cell_type": "markdown",
   "metadata": {
    "slideshow": {
     "slide_type": "subslide"
    }
   },
   "source": [
    "\n",
    "## 其它神经元 $q$:\n",
    "\\begin{align*}\n",
    "\\frac{\\partial E}{\\partial q_x}&=\\sum_{r\\in\\{r'|q\\rightarrow r'\\}}\\frac{\\partial E}{\\partial r_x}\\frac{\\partial r_x}{\\partial q_x}\\\\\n",
    "&=\\sum_{r\\in\\{r'|q\\rightarrow r'\\}}\\frac{\\partial E}{\\partial r_x}\\frac{\\partial r_x}{\\partial q_o}\\frac{\\partial q_o}{\\partial q_x} \\\\\n",
    "&=\\sum_{r\\in\\{r'|q\\rightarrow r'\\}}\\frac{\\partial E}{\\partial r_x}w_{rq}f'(q_x) \\\\\n",
    "\\frac{\\partial E}{\\partial w_{qp}} &=\\frac{\\partial E}{\\partial q_x}\\frac{\\partial q_x}{\\partial w_{qp}} \\\\\n",
    "&=\\frac{\\partial E}{\\partial q_x}p_o\n",
    "\\end{align*}\n"
   ]
  },
  {
   "cell_type": "markdown",
   "metadata": {
    "slideshow": {
     "slide_type": "subslide"
    }
   },
   "source": [
    "\n",
    "## 反向传播\n",
    "输出层神经元：\n",
    "\\begin{align*}\n",
    "t_{\\delta}&=\\frac{\\partial E}{\\partial t_x}\\\\\n",
    "&=(t_o-t_y) f'(t_x)\\\\\n",
    "\\Delta w_{tq}&=-\\eta t_{\\delta}q_o\n",
    "\\end{align*}\n",
    "其它神经元：\n",
    "\\begin{align*}\n",
    "q_{\\delta}&=\\frac{\\partial E}{\\partial q_x}\\\\\n",
    "&=\\sum_{\\{r|q\\rightarrow r\\}}r_{\\delta}w_{rq}f'(q_x)\\\\\n",
    "\\Delta w_{qp}&=-\\eta q_{\\delta}p_o\n",
    "\\end{align*}\n",
    "\n"
   ]
  }
 ],
 "metadata": {
  "celltoolbar": "Slideshow",
  "jupytext": {
   "formats": "ipynb,md"
  },
  "kernelspec": {
   "display_name": "Python 3",
   "language": "python",
   "name": "python3"
  },
  "language_info": {
   "codemirror_mode": {
    "name": "ipython",
    "version": 3
   },
   "file_extension": ".py",
   "mimetype": "text/x-python",
   "name": "python",
   "nbconvert_exporter": "python",
   "pygments_lexer": "ipython3",
   "version": "3.6.3"
  }
 },
 "nbformat": 4,
 "nbformat_minor": 4
}
