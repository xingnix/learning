{
 "cells": [
  {
   "cell_type": "code",
   "execution_count": 1,
   "metadata": {},
   "outputs": [],
   "source": [
    "import numpy as np\n",
    "from scipy.linalg import expm\n",
    "\n",
    "def _x(v):\n",
    "    return np.array([[0,-v[2],v[1]],[v[2],0,-v[0]],[-v[1],v[0],0]])\n"
   ]
  },
  {
   "cell_type": "code",
   "execution_count": 3,
   "metadata": {},
   "outputs": [
    {
     "data": {
      "text/plain": [
       "array([ 0.00000000e+00, -1.00000000e+00,  2.35127499e-16])"
      ]
     },
     "execution_count": 3,
     "metadata": {},
     "output_type": "execute_result"
    }
   ],
   "source": [
    "a=np.array([0,1,0]);\n",
    "v=np.array([1,0,0])\n",
    "v_x=_x(v)\n",
    "#scipy.linalg.expm(np.pi*v_x).dot(a)\n",
    "expm(np.pi*v_x).dot(a)"
   ]
  },
  {
   "cell_type": "code",
   "execution_count": 62,
   "metadata": {
    "scrolled": true
   },
   "outputs": [
    {
     "data": {
      "text/plain": [
       "0.0"
      ]
     },
     "execution_count": 62,
     "metadata": {},
     "output_type": "execute_result"
    }
   ],
   "source": [
    "# 旋转角度：a1,a2,a3,旋转轴：n1,n2,n3\n",
    "a1=np.pi/4\n",
    "a2=np.pi/6\n",
    "a3=np.pi/3\n",
    "n1=np.array([1,0,0])\n",
    "n2=np.array([0,1,0])\n",
    "n3=np.array([0,0,1])\n",
    "R1=expm(_x(n1)*a1)\n",
    "R2=expm(_x(n2)*a2)\n",
    "R3=expm(_x(n3)*a3)\n",
    "R=R3.dot(R2).dot(R1)\n",
    "t=np.array([1,0,0])\n",
    "M1=np.array([1.,2,3])\n",
    "M2=R.dot(M1)+t\n",
    "\n",
    "\n",
    "c=lambda x : np.array([x[0]/x[2],x[1]/x[2],1])\n",
    "m1=c(M1)\n",
    "m2=c(M2)\n",
    "E=_x(t).dot(R)\n",
    "m2.dot(E.dot(m1))"
   ]
  }
 ],
 "metadata": {
  "kernelspec": {
   "display_name": "Python 3",
   "language": "python",
   "name": "python3"
  },
  "language_info": {
   "codemirror_mode": {
    "name": "ipython",
    "version": 3
   },
   "file_extension": ".py",
   "mimetype": "text/x-python",
   "name": "python",
   "nbconvert_exporter": "python",
   "pygments_lexer": "ipython3",
   "version": "3.6.3"
  }
 },
 "nbformat": 4,
 "nbformat_minor": 4
}
